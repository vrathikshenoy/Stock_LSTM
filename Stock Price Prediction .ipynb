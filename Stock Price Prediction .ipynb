{
 "cells": [
  {
   "cell_type": "code",
   "execution_count": null,
   "id": "ec299eef",
   "metadata": {},
   "outputs": [],
   "source": [
    "import pandas as pd\n",
    "import numpy as np\n",
    "import matplotlib.pyplot as plt\n",
    "import pandas_datareader as data\n",
    "\n",
    "plt.style.use('fivethirtyeight')\n",
    "%matplotlib inline"
   ]
  },
  {
   "cell_type": "code",
   "execution_count": null,
   "id": "b57743ea",
   "metadata": {},
   "outputs": [],
   "source": [
    "import yfinance as yf\n",
    "import datetime as dt\n",
    "\n",
    "stock = \"POWERGRID.NS\"\n",
    "start = dt.datetime(2000, 1, 1)\n",
    "end = dt.datetime(2024, 11, 1)\n",
    "\n",
    "df = yf.download(stock, start, end)"
   ]
  },
  {
   "cell_type": "code",
   "execution_count": null,
   "id": "7105ee62",
   "metadata": {},
   "outputs": [],
   "source": [
    "df.to_csv(\"powergrid.csv\")"
   ]
  },
  {
   "cell_type": "code",
   "execution_count": null,
   "id": "91ebf02e",
   "metadata": {},
   "outputs": [],
   "source": [
    "data01 = pd.read_csv(\"powergrid.csv\")"
   ]
  },
  {
   "cell_type": "code",
   "execution_count": null,
   "id": "0ea0a717",
   "metadata": {},
   "outputs": [],
   "source": [
    "data01.head()"
   ]
  },
  {
   "cell_type": "code",
   "execution_count": null,
   "id": "ad29a4f6",
   "metadata": {},
   "outputs": [],
   "source": [
    "# Candlesticks \n",
    "import plotly.graph_objects as go\n",
    "\n",
    "fig = go.Figure(data=[go.Candlestick(x = data01['Date'], open = data01['Open'], \n",
    "                                    high = data01['High'],\n",
    "                                    low = data01['Low'], \n",
    "                                    close = data01['Close'])])\n",
    "fig.update_layout(xaxis_rangeslider_visible=False)\n",
    "fig.show()"
   ]
  },
  {
   "cell_type": "code",
   "execution_count": null,
   "id": "2689ea49",
   "metadata": {},
   "outputs": [],
   "source": [
    "df = df.drop(['Date', 'Adj Close'], axis = 1)"
   ]
  },
  {
   "cell_type": "code",
   "execution_count": null,
   "id": "1f7c26fa",
   "metadata": {},
   "outputs": [],
   "source": [
    "df.head()"
   ]
  },
  {
   "cell_type": "code",
   "execution_count": null,
   "id": "666ecd7c",
   "metadata": {},
   "outputs": [],
   "source": [
    "plt.figure(figsize=(12, 6))\n",
    "plt.plot(df['Close'], label = f'{stock} Closing Price', linewidth = 1)\n",
    "plt.title(f'{stock} Closing prices over time')\n",
    "plt.legend()\n",
    "plt.show()"
   ]
  },
  {
   "cell_type": "code",
   "execution_count": null,
   "id": "23c825af",
   "metadata": {},
   "outputs": [],
   "source": [
    "plt.figure(figsize=(12, 6))\n",
    "plt.plot(df['Open'], label = f'{stock} Opening Price', linewidth = 1)\n",
    "plt.title(f'{stock} Opening prices over time')\n",
    "plt.legend()\n",
    "plt.show()"
   ]
  },
  {
   "cell_type": "code",
   "execution_count": null,
   "id": "eac601c4",
   "metadata": {},
   "outputs": [],
   "source": [
    "plt.figure(figsize=(12, 6))\n",
    "plt.plot(df['High'], label = f'{stock} High Price', linewidth = 1)\n",
    "plt.title(f'{stock} High prices over time')\n",
    "plt.legend()\n",
    "plt.show()"
   ]
  },
  {
   "cell_type": "code",
   "execution_count": null,
   "id": "02062d92",
   "metadata": {},
   "outputs": [],
   "source": [
    "plt.figure(figsize=(12, 6))\n",
    "plt.plot(df['Volume'], label = f'{stock} Volume', linewidth = 2)\n",
    "plt.title(f'{stock} Volume over time')\n",
    "plt.legend()\n",
    "plt.show()"
   ]
  },
  {
   "cell_type": "code",
   "execution_count": null,
   "id": "2eef03a2",
   "metadata": {},
   "outputs": [],
   "source": [
    "# Moving Average\n",
    "# [10, 20, 30, 40, 50, 60, 70, 80, 90]\n",
    "# moving average for last 5 days -> null null null null 30.0 40.0 50.0\n",
    "\n",
    "temp_data = [10, 20, 30, 40, 50, 60, 70, 80, 90]\n",
    "print(sum(temp_data[2:7])/5)"
   ]
  },
  {
   "cell_type": "code",
   "execution_count": null,
   "id": "25ac54fa",
   "metadata": {},
   "outputs": [],
   "source": [
    "import pandas as pd\n",
    "df01 = pd.DataFrame(temp_data)"
   ]
  },
  {
   "cell_type": "code",
   "execution_count": null,
   "id": "029894b7",
   "metadata": {},
   "outputs": [],
   "source": [
    "df01.rolling(5).mean()"
   ]
  },
  {
   "cell_type": "code",
   "execution_count": null,
   "id": "93c0f439",
   "metadata": {},
   "outputs": [],
   "source": [
    "ma100 = df.Close.rolling(100).mean()"
   ]
  },
  {
   "cell_type": "code",
   "execution_count": null,
   "id": "ca7a4503",
   "metadata": {},
   "outputs": [],
   "source": [
    "ma200 = df.Close.rolling(200).mean()"
   ]
  },
  {
   "cell_type": "code",
   "execution_count": null,
   "id": "fc9bfa71",
   "metadata": {},
   "outputs": [],
   "source": [
    "plt.figure(figsize=(12, 6))\n",
    "plt.plot(df.Close, label = f'{stock} Close Price', linewidth = 1)\n",
    "plt.plot(ma100, label = f'{stock} Moving Average 100 Price', linewidth = 1)\n",
    "plt.plot(ma200, label = f'{stock} Moving Average 200 Price', linewidth = 1)\n",
    "plt.legend()\n",
    "plt.show()"
   ]
  },
  {
   "cell_type": "code",
   "execution_count": null,
   "id": "7bdc5b5d",
   "metadata": {},
   "outputs": [],
   "source": [
    "ema100 = df.Close.ewm(span=100, adjust = False).mean()"
   ]
  },
  {
   "cell_type": "code",
   "execution_count": null,
   "id": "bafdfc2c",
   "metadata": {},
   "outputs": [],
   "source": [
    "ema200 = df['Close'].ewm(span=200, adjust = False).mean()"
   ]
  },
  {
   "cell_type": "code",
   "execution_count": null,
   "id": "2dbbbe85",
   "metadata": {},
   "outputs": [],
   "source": [
    "plt.figure(figsize=(12, 6))\n",
    "plt.plot(df.Close, label = f'{stock} Close Price', linewidth = 1)\n",
    "plt.plot(ema100, label = f'{stock} Exp. Moving Average 100 Price', linewidth = 1)\n",
    "plt.plot(ema200, label = f'{stock} Exp. Moving Average 200 Price', linewidth = 1)\n",
    "plt.legend()\n",
    "plt.show()"
   ]
  },
  {
   "cell_type": "code",
   "execution_count": null,
   "id": "2b115100",
   "metadata": {},
   "outputs": [],
   "source": [
    "# Training & Testing\n",
    "\n",
    "data_training = pd.DataFrame(df['Close'][0:int(len(df)*0.70)])\n",
    "data_testing = pd.DataFrame(df['Close'][int(len(df)*0.70): int(len(df))])"
   ]
  },
  {
   "cell_type": "code",
   "execution_count": null,
   "id": "3a13c639",
   "metadata": {},
   "outputs": [],
   "source": [
    "data_training.shape"
   ]
  },
  {
   "cell_type": "code",
   "execution_count": null,
   "id": "fd2e2e08",
   "metadata": {},
   "outputs": [],
   "source": [
    "data_testing.shape"
   ]
  },
  {
   "cell_type": "code",
   "execution_count": null,
   "id": "e88d712b",
   "metadata": {},
   "outputs": [],
   "source": [
    "from sklearn.preprocessing import MinMaxScaler\n",
    "\n",
    "scaler = MinMaxScaler(feature_range = (0, 1))"
   ]
  },
  {
   "cell_type": "code",
   "execution_count": null,
   "id": "04e90c1b",
   "metadata": {},
   "outputs": [],
   "source": [
    "data_training_array = scaler.fit_transform(data_training)"
   ]
  },
  {
   "cell_type": "code",
   "execution_count": null,
   "id": "05ce4e1f",
   "metadata": {},
   "outputs": [],
   "source": [
    "x_train = []\n",
    "y_train = []\n",
    "\n",
    "for i in range(100, data_training_array.shape[0]):\n",
    "    x_train.append(data_training_array[i-100:i])\n",
    "    y_train.append(data_training_array[i, 0])\n",
    "\n",
    "x_train, y_train  = np.array(x_train), np.array(y_train)"
   ]
  },
  {
   "cell_type": "code",
   "execution_count": null,
   "id": "c9bc1a7d",
   "metadata": {},
   "outputs": [],
   "source": [
    "x_train.shape"
   ]
  },
  {
   "cell_type": "code",
   "execution_count": null,
   "id": "37138065",
   "metadata": {},
   "outputs": [],
   "source": [
    "# Model Building\n",
    "from keras.layers import Dense, Dropout, LSTM\n",
    "from keras.models import Sequential"
   ]
  },
  {
   "cell_type": "markdown",
   "id": "e244f7e3",
   "metadata": {},
   "source": [
    "LSTM Input -> 3D Array (batch_size, time_steps, seq_len)\n",
    "LSTM 2D OR 3D\n",
    "2D -> (batch_sizem units)\n",
    "3D -> (batch_size, time_steps, units)"
   ]
  },
  {
   "cell_type": "code",
   "execution_count": null,
   "id": "e1aba925",
   "metadata": {},
   "outputs": [],
   "source": [
    "model = Sequential()\n",
    "\n",
    "model.add(LSTM(units = 50, activation = 'relu', return_sequences = True, input_shape = (x_train.shape[1],1)))\n",
    "model.add(Dropout(0.2))\n",
    "\n",
    "model.add(LSTM(units = 60, activation = 'relu', return_sequences = True))\n",
    "model.add(Dropout(0.3))\n",
    "\n",
    "model.add(LSTM(units = 80, activation = 'relu', return_sequences = True))\n",
    "model.add(Dropout(0.4))\n",
    "\n",
    "model.add(LSTM(units = 120, activation = 'relu'))\n",
    "model.add(Dropout(0.5))\n",
    "\n",
    "model.add(Dense(units = 1))"
   ]
  },
  {
   "cell_type": "code",
   "execution_count": null,
   "id": "7582cce0",
   "metadata": {},
   "outputs": [],
   "source": [
    "model.summary()"
   ]
  },
  {
   "cell_type": "code",
   "execution_count": null,
   "id": "19c821ce",
   "metadata": {},
   "outputs": [],
   "source": [
    "model.compile(optimizer = 'adam', loss = 'mean_squared_error')\n",
    "model.fit(x_train, y_train, epochs = 50)"
   ]
  },
  {
   "cell_type": "code",
   "execution_count": null,
   "id": "18ac2a10",
   "metadata": {},
   "outputs": [],
   "source": [
    "past_100_days = data_training.tail(100)"
   ]
  },
  {
   "cell_type": "code",
   "execution_count": null,
   "id": "fe2e5a90",
   "metadata": {},
   "outputs": [],
   "source": [
    "final_df = past_100_days.append(data_testing, ignore_index = True)"
   ]
  },
  {
   "cell_type": "code",
   "execution_count": null,
   "id": "d8eed9c8",
   "metadata": {},
   "outputs": [],
   "source": [
    "final_df.head()"
   ]
  },
  {
   "cell_type": "code",
   "execution_count": null,
   "id": "7fb56075",
   "metadata": {},
   "outputs": [],
   "source": [
    "input_data = scaler.fit_transform(final_df)"
   ]
  },
  {
   "cell_type": "code",
   "execution_count": null,
   "id": "d57eb5c1",
   "metadata": {},
   "outputs": [],
   "source": [
    "x_test = []\n",
    "y_test = []\n",
    "\n",
    "for i in range(100, input_data.shape[0]):\n",
    "    x_test.append(input_data[i-100:i])\n",
    "    y_test.append(input_data[i, 0])\n",
    "\n",
    "x_test, y_test  = np.array(x_test), np.array(y_test)"
   ]
  },
  {
   "cell_type": "code",
   "execution_count": null,
   "id": "3c3e8a62",
   "metadata": {},
   "outputs": [],
   "source": [
    "x_test.shape"
   ]
  },
  {
   "cell_type": "code",
   "execution_count": null,
   "id": "29aee9a6",
   "metadata": {},
   "outputs": [],
   "source": [
    "y_predicted = model.predict(x_test)"
   ]
  },
  {
   "cell_type": "code",
   "execution_count": null,
   "id": "ea8d33a4",
   "metadata": {},
   "outputs": [],
   "source": [
    "y_predicted.shape"
   ]
  },
  {
   "cell_type": "code",
   "execution_count": null,
   "id": "90d7daa7",
   "metadata": {},
   "outputs": [],
   "source": [
    "scaler.scale_"
   ]
  },
  {
   "cell_type": "code",
   "execution_count": null,
   "id": "ac76c061",
   "metadata": {},
   "outputs": [],
   "source": [
    "scaler_factor = 1 / 0.0035166\n",
    "y_predicted = y_predicted * scaler_factor\n",
    "y_test = y_test * scaler_factor"
   ]
  },
  {
   "cell_type": "code",
   "execution_count": null,
   "id": "2d2c784e",
   "metadata": {},
   "outputs": [],
   "source": [
    "plt.figure(figsize=(12, 6))\n",
    "plt.plot(y_test, label = 'Original Price', linewidth = 1)\n",
    "plt.plot(y_predicted, label = 'Predicted Price', linewidth = 1)\n",
    "plt.legend()\n",
    "plt.show()"
   ]
  },
  {
   "cell_type": "code",
   "execution_count": null,
   "id": "da2451b2",
   "metadata": {},
   "outputs": [],
   "source": [
    "model.save('stock_dl_model.h5')"
   ]
  },
  {
   "cell_type": "code",
   "execution_count": null,
   "id": "5639f8bc",
   "metadata": {},
   "outputs": [],
   "source": []
  }
 ],
 "metadata": {
  "kernelspec": {
   "display_name": "Python 3",
   "language": "python",
   "name": "python3"
  },
  "language_info": {
   "codemirror_mode": {
    "name": "ipython",
    "version": 3
   },
   "file_extension": ".py",
   "mimetype": "text/x-python",
   "name": "python",
   "nbconvert_exporter": "python",
   "pygments_lexer": "ipython3",
   "version": "3.8.5"
  }
 },
 "nbformat": 4,
 "nbformat_minor": 5
}
